{
 "cells": [
  {
   "cell_type": "code",
   "execution_count": 28,
   "metadata": {},
   "outputs": [],
   "source": [
    "import pandas as pd\n",
    "import serial\n",
    "import time\n",
    "from sklearn import tree"
   ]
  },
  {
   "cell_type": "code",
   "execution_count": 29,
   "metadata": {},
   "outputs": [],
   "source": [
    "features = pd.read_csv(\"params.csv\")\n",
    "features = features.to_numpy()"
   ]
  },
  {
   "cell_type": "code",
   "execution_count": 30,
   "metadata": {},
   "outputs": [],
   "source": [
    "labels = pd.read_csv(\"output.csv\")\n",
    "labels = labels.to_numpy()"
   ]
  },
  {
   "cell_type": "code",
   "execution_count": 31,
   "metadata": {},
   "outputs": [],
   "source": [
    "clf = tree.DecisionTreeClassifier()"
   ]
  },
  {
   "cell_type": "code",
   "execution_count": 32,
   "metadata": {},
   "outputs": [],
   "source": [
    "clf = clf.fit(features, labels)"
   ]
  },
  {
   "cell_type": "code",
   "execution_count": 33,
   "metadata": {},
   "outputs": [],
   "source": [
    "arduino = serial.Serial(port='COM4', baudrate=9600, timeout=.1)"
   ]
  },
  {
   "cell_type": "code",
   "execution_count": 34,
   "metadata": {},
   "outputs": [],
   "source": [
    "def run_decision_tree():\n",
    "    temp = float(arduino.readline().decode().strip(\"b'\\r\\n\"))\n",
    "    presence = int(arduino.readline().decode().strip(\"b'\\r\\n\"))\n",
    "    sound = int(arduino.readline().decode().strip(\"b'\\r\\n\"))\n",
    "    data = [[temp, presence, sound]]\n",
    "    predicted_output = clf.predict(data)\n",
    "    result = str(predicted_output[0])\n",
    "    print(temp, presence, sound, 'result = ' + result)\n",
    "    arduino.write(bytes(result, 'utf-8'))"
   ]
  },
  {
   "cell_type": "code",
   "execution_count": null,
   "metadata": {
    "scrolled": false
   },
   "outputs": [
    {
     "name": "stdout",
     "output_type": "stream",
     "text": [
      "37.15 0 0 result = 1\n",
      "37.4 0 1 result = 1\n",
      "36.89 0 0 result = 1\n",
      "37.02 0 0 result = 3\n",
      "37.02 0 0 result = 3\n",
      "36.63 0 0 result = 2\n",
      "37.15 0 0 result = 1\n",
      "37.66 0 0 result = 1\n"
     ]
    }
   ],
   "source": [
    "while True:\n",
    "    run_decision_tree()\n",
    "    time.sleep(3)"
   ]
  },
  {
   "cell_type": "code",
   "execution_count": null,
   "metadata": {},
   "outputs": [],
   "source": []
  },
  {
   "cell_type": "code",
   "execution_count": null,
   "metadata": {},
   "outputs": [],
   "source": []
  }
 ],
 "metadata": {
  "kernelspec": {
   "display_name": "Python 3 (ipykernel)",
   "language": "python",
   "name": "python3"
  },
  "language_info": {
   "codemirror_mode": {
    "name": "ipython",
    "version": 3
   },
   "file_extension": ".py",
   "mimetype": "text/x-python",
   "name": "python",
   "nbconvert_exporter": "python",
   "pygments_lexer": "ipython3",
   "version": "3.10.9"
  }
 },
 "nbformat": 4,
 "nbformat_minor": 2
}
